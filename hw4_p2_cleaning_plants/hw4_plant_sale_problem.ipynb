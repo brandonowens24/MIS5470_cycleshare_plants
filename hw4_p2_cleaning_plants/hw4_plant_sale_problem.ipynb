{
 "cells": [
  {
   "cell_type": "markdown",
   "metadata": {},
   "source": [
    "# HW4 Problem 2 - Text file processing with Python\n"
   ]
  },
  {
   "cell_type": "code",
   "execution_count": null,
   "metadata": {},
   "outputs": [],
   "source": [
    "import pandas as pd\n",
    "import numpy as np\n",
    "import re\n"
   ]
  },
  {
   "cell_type": "markdown",
   "metadata": {},
   "source": [
    "For the past few years, one of the local municipalities has organized a native plant sale. Residents can place orders for various plants and a consolidated order is placed with a nursery that specializes in plants that are native to Michigan. From one of the pages in their website, https://www.wildtypeplants.com/wholesale, you can download an Excel spreadsheet containing the price list. I've included the Excel file in the folder for this problem. If you take a look at it, you'll see that different plants are available in different order sizes such as a 38 cell flat of plugs or a 5 gallon bucket. In my MIS 4460/5460 class, a few student groups did their final project on trying to improve and automate the ordering process for the municipality. As part of this, they needed to do a bunch of data cleaning and wrangling to get the plant catalog into a format amenable for improving the process. In this first problem, we will use our new found Python skills to do various tasks related to data cleaning and data wrangling. Instead of working with the entire catalog Excel file, I've created a csv file containing just the price list for the wildflowers. The file is called *wildflowers.csv* and here's what it looks like:\n",
    "\n",
    "    Scientific Name,Common Name,38 cell flat           (unit price/plug)  ,\"32 tray                (unit price/2\"\"pot) \",12 ct. quart tray              (unit price/qt.) \n",
    "    Achillea millefolium,Yarrow,$45.22 (1.19),$44.48 ($1.39),$47.40 ($3.95)\n",
    "    Actaea pachypoda,White Baneberry,,$94.40 ($2.95) ~,$71.40 ($5.95)\n",
    "    Actaea rubra,Red Baneberry,,$94.40 ($2.95) ~,$71.40 ($5.95)\n",
    "    Agastache nepetoides,Yellow Giant Hyssop,$50.92 ($1.34),$44.48 ($1.39),$47.40 ($3.95)\n",
    "    Ageratina altissima,White Snakeroot,$50.92 ($1.34),$44.48 ($1.39),$47.40 ($3.95)\n",
    "    Allium cernuum,Nodding Wild Onion,$50.92 ($1.34),$44.48 ($1.39),$47.40 ($3.95)\n",
    "    Anemone canadensis,Canada Anemone,$60.80 ($1.60),$94.40 ($2.95) ~,$59.40 ($4.95)\n",
    "    ...\n",
    "    \n",
    "You can see that it is a comma delimited file and the first row is the header row. However, there are several challenges we face in getting this file into shape for analysis:\n",
    "\n",
    "* if you look closely, each line is made up of 5 fields (4 commas),\n",
    "* while the `Scientfic Name` and `Common Name` fields are clean, the next three price fields are not,\n",
    "* each price field actually contains two values, the total cost for the item and, in parentheses, the associated unit cost per actual plant. For example, a 38 cell (plant) flat of Yarrow costs 45.22 which is 1.19 per cell.\n",
    "* the data is in \"wide format\" and eventually, we will want it in \"long format\" (each type of plant will have multiple rows corresponding to the different order unit types.\n",
    "\n",
    "We will take on this challenge in small pieces that will allow you to demonstrate your new found Python skills."
   ]
  },
  {
   "cell_type": "markdown",
   "metadata": {},
   "source": [
    "**QUESTION 2.1** What challenges do you foresee in getting this data imported into a pandas `DataFrame`?\n",
    "\n",
    "**ANSWER** \n",
    "\n",
    "> Put your answer here"
   ]
  },
  {
   "cell_type": "markdown",
   "metadata": {},
   "source": [
    "Now, let's practice working with strings. I've created a variable and set its value to the third item in the header row."
   ]
  },
  {
   "cell_type": "code",
   "execution_count": null,
   "metadata": {},
   "outputs": [],
   "source": [
    "colname3 = '38 cell flat           (unit price/plug)  '"
   ]
  },
  {
   "cell_type": "markdown",
   "metadata": {},
   "source": [
    "**QUESTION 2.2** Use a string method to return the length of `colname3`. Oddly enough, the answer really is 42."
   ]
  },
  {
   "cell_type": "code",
   "execution_count": null,
   "metadata": {},
   "outputs": [],
   "source": [
    "# Put your answer here\n"
   ]
  },
  {
   "cell_type": "markdown",
   "metadata": {},
   "source": [
    "**QUESTION 2.3** Use a string method to remove the spaces from the **end** of `colname3`. We'll just store the result right back in `colname3`. Then recheck the length of `colname3` to confirm you actually got rid of those trailing spaces. In fact, you should print a message that shows the length of `colname3`. For this example, the result would be:\n",
    "\n",
    "    The length of '38 cell flat           (unit price/plug)' is 40"
   ]
  },
  {
   "cell_type": "code",
   "execution_count": null,
   "metadata": {},
   "outputs": [],
   "source": [
    "# Put your answer here\n",
    "\n",
    "colname3 = ???\n",
    "print(???) # See above for the correct answer. Obviously you can't hard code the message. It should work for any value of colname3.\n"
   ]
  },
  {
   "cell_type": "markdown",
   "metadata": {},
   "source": [
    "**QUESTION 2.4** Use a string method to split `colname3` at the left parenthesis and store the result in a list called `col3pieces`. Your answer will look like this:\n",
    "\n",
    "```\n",
    "['38 cell flat           ', 'unit price/plug)']\n",
    "```"
   ]
  },
  {
   "cell_type": "code",
   "execution_count": null,
   "metadata": {},
   "outputs": [],
   "source": [
    "# Put your answer here\n",
    "col3pieces = ???\n",
    "print(col3pieces)"
   ]
  },
  {
   "cell_type": "markdown",
   "metadata": {},
   "source": [
    "**QUESTION 2.5** Use a string method remove the trailing spaces in the first element of the `col3pieces` list and then use another string method to get rid of that right parenthesis at the end of the second element. Note, when getting rid of the right parenthesis, your method must work no matter how many characters there are to the left of the paren. In addition, replace the spaces with underscores, i.e. '_', and replace the '/' with '_per_'.\n",
    "\n",
    "**HACKER EXTRA** Do all of the changes to the `col3pieces` list in one line of code. HINT: List comprehension\n",
    "\n",
    "When you are done with the question, the `col3pieces` list should look like this:\n",
    "\n",
    "```\n",
    "['38_cell_flat', 'unit_price_per_plug']\n",
    "```"
   ]
  },
  {
   "cell_type": "markdown",
   "metadata": {},
   "source": [
    "**QUESTION 2.6** Now, let's look at column 4. It's even more of a mess. Be careful, my string variable value is surrounded by single quotes. All of those double quotes are inside the field name itself (there are 4 sets of double quotes, one at beginning, one at end, and two after the 2). Use string methods to do similar things and get a final list of cleaned up field names. Specifically:\n",
    "\n",
    "* first replace the '2\"\"pot' with '2_in_pot'\n",
    "* get rid of any trailing spaces\n",
    "* get rid of all the other double quotes\n",
    "* get rid of any extra parens\n",
    "* replace the '/' with '_per_'\n",
    "* replace any remaining spaces with underscore \n",
    "\n",
    "Let's call this list `col4pieces`. Your final value of `col4pieces` should be the following list:\n",
    "\n",
    "    ['32_tray', 'unit_price_per_2_in_pot']\n"
   ]
  },
  {
   "cell_type": "code",
   "execution_count": null,
   "metadata": {},
   "outputs": [],
   "source": [
    "col4name = '\"32 tray                (unit price/2\"\"pot) \"'"
   ]
  },
  {
   "cell_type": "code",
   "execution_count": null,
   "metadata": {},
   "outputs": [],
   "source": [
    "# Put your answer here. Obviously, this could be several lines of code. The final line should print col4pieces.\n",
    "\n",
    "\n",
    "print(col4pieces)\n"
   ]
  },
  {
   "cell_type": "markdown",
   "metadata": {},
   "source": [
    "At this point, you might be thinking, hmm, I keep doing some similar things to clean up these column names. I bet a lot of datasets have terrible column names (i.e. things like including spaces and various special characters). It would be nice to have a function that we could pass in some column name as a string along with various other parameters and have the function spit back a cleaned up version of the column name. That's what you'll do in the next question."
   ]
  },
  {
   "cell_type": "markdown",
   "metadata": {},
   "source": [
    "**QUESTION 2.7** Create a function called `clean_colname`. See the docstring in the code skeleton below for all of the details regarding the function inputs, the function return value, and an example showing the use of the function. A couple things to note:\n",
    "\n",
    "* This is pretty much putting together a few simple loops, if-then conditional logic and some string functions.\n",
    "* Tuples are like lists in terms of how you access their elements. \n",
    "* no need to use an regular expressions (though you can if you wish). I did this with all basic string methods.\n",
    "* I've left some useful comments in the code\n",
    "* Get various pieces working by themselves in separate code cells and incrementally keep improving your function.\n",
    "* Suggestion: Here are some predefined variables you can use for testing as you go ...\n"
   ]
  },
  {
   "cell_type": "code",
   "execution_count": null,
   "metadata": {},
   "outputs": [],
   "source": [
    "bad_col_names = ['38 cell flat           ', '(unit price/plug)', '\"32 tray                ', '(unit price/2\"\"pot) \"']\n",
    "\n",
    "col0 = bad_col_names[0]\n",
    "col1 = bad_col_names[1]\n",
    "col2 = bad_col_names[2]\n",
    "col3 = bad_col_names[3]\n"
   ]
  },
  {
   "cell_type": "markdown",
   "metadata": {},
   "source": [
    "... and here's a code skeleton to help you out. Obviously, the '???' is where you need to do some work. Also, I've got a bunch of comment markers in the code lines that you can uncomment little by little as you get each part of the code working."
   ]
  },
  {
   "cell_type": "code",
   "execution_count": null,
   "metadata": {},
   "outputs": [],
   "source": [
    "def clean_colname(???, strip_leadingtrailing_spaces, ???, to_replace):\n",
    "    \"\"\" Clean bad column names by stripping trailing spaces, deleting specified strings, \n",
    "    and replacing specified strings with other strings.\n",
    "    \n",
    "    Parameters\n",
    "    ----------\n",
    "    col_name : str\n",
    "        The poorly structured column name you want to clean\n",
    "    strip_trailing_spaces : boolean\n",
    "        If True, the first cleaning step done is to strip leading and trailing spaces from col_name\n",
    "    to_delete : list of str\n",
    "        Each string in the list to_delete is removed from col_name\n",
    "    to_replace : list of tuples of str\n",
    "        Each tuple in the list to_replace contains a string to replace and the string it should be replaced with, in col_name\n",
    "        \n",
    "    Returns\n",
    "    -------\n",
    "    clean_col_name : str \n",
    "        The cleaned column name\n",
    "        \n",
    "    Example\n",
    "    -------\n",
    "    bad_col_names = ['38 cell flat           ', 'unit price/plug)', '\"32 tray                ', 'unit price/2\"\"pot) \"']\n",
    "    for colname in bad_col_names:\n",
    "        print(clean_colname(colname, True, ['\"', '.', ')'], [(' ', '_'), ('/', '_per_')]))\n",
    "    \n",
    "    Will output:\n",
    "    \n",
    "        38_cell_flat\n",
    "        unit_price_per_plug\n",
    "        32_tray\n",
    "        unit_price_per_2pot\n",
    " \n",
    "    \"\"\"\n",
    "    \n",
    "    # Check if we should strip trailing spaces \n",
    "#    if ???:\n",
    "#        col_name = ???\n",
    "        \n",
    "    # Delete any characters in the list to_delete\n",
    "#    for ???:\n",
    "#        ??? this is one or more statements\n",
    "        \n",
    "    # Make replacements specified by the list of tuples in to_replace \n",
    "#    for ???:\n",
    "#       ??? this is one or more statements\n",
    "\n",
    "        \n",
    "    # Strip out any leading or trailing underscores still remaining\n",
    "#    ????\n",
    "        \n",
    "    return colname"
   ]
  },
  {
   "cell_type": "markdown",
   "metadata": {},
   "source": [
    "Here's some code to test your function. It should result in:\n",
    "\n",
    "```\n",
    "38_cell_flat\n",
    "unit_price_per_plug\n",
    "32_tray\n",
    "unit_price_per_2pot\n",
    "```\n"
   ]
  },
  {
   "cell_type": "code",
   "execution_count": null,
   "metadata": {},
   "outputs": [],
   "source": [
    "bad_col_names = ['38 cell flat           ', '(unit price/plug)', '\"32 tray                ', '(unit price/2\"\"pot) \"']\n",
    "for colname in bad_col_names:\n",
    "        print(clean_colname(colname, True, ['\"', '.', '(', ')'], [(' ', '_'), ('/', '_per_')]))"
   ]
  },
  {
   "cell_type": "markdown",
   "metadata": {},
   "source": [
    "**Next Steps**\n",
    "\n",
    "Unfortunately, while we learned a bit about string manipulation and created a pretty useful function, this file is really quite a mess. Let's read it into a pandas `DataFrame` to see what I mean. I'm going to specify that it's comma delimited and that line 0 is the header line."
   ]
  },
  {
   "cell_type": "code",
   "execution_count": null,
   "metadata": {},
   "outputs": [],
   "source": [
    "wildflowers_df = pd.read_csv('data/wildflowers.csv', sep=',', header=0)"
   ]
  },
  {
   "cell_type": "code",
   "execution_count": null,
   "metadata": {},
   "outputs": [],
   "source": [
    "wildflowers_df.head()"
   ]
  },
  {
   "cell_type": "markdown",
   "metadata": {},
   "source": [
    "Now we can clearly see the issue. The total price as well as the per unit price are combined into single fields. Obviously the per unit price is in parentheses. As you probably guessed, those price fields aren't actually numeric, they are strings. We can also see that for flowers that aren't available in certain sizes, pandas replaced the missing values with NaN."
   ]
  },
  {
   "cell_type": "code",
   "execution_count": null,
   "metadata": {},
   "outputs": [],
   "source": [
    "wildflowers_df.info()"
   ]
  },
  {
   "cell_type": "markdown",
   "metadata": {},
   "source": [
    "**QUESTION 2.8** Let's take a different approach to getting this into a usable format. We really don't need those per unit prices within the parens as they could easily be calculated. So, let's just try to get the total price for each line item into a separate column. It's a little like what we were doing earlier, essentially splitting the column and keeping the first piece. However, it's a little trickier when you are working with pandas columns as opposed to individual string values. Also, we want the new price columns to be numeric and so we are going to have to deal with those pesky \\\\$ signs. We can assume that the \\\\$ may or may not be present and there may or may not be some space before the left paren. Our first goal is just to create a function that will take inputs that look like `test1` or `test2`, and return a numeric price (i.e. 45.22 for `test1` and 50.92 for `test2`). We CANNOT assume that prices are always xx.xx. They might be over \\\\$100 or less than \\\\$10. You CAN assume that if the price is less than \\\\$1, it will have a leading zero.\n",
    "\n",
    "Also, instead of using string methods like `strip` or `replace`, you **must use a regular expression** to pull out the price. Here's a code skeleton to get you going. We covered these in the class notes and I strongly suggest you use https://regexr.com/ to get your regex expression working before trying to use it in the function below. You can check if your function is working by running the test cells I've included."
   ]
  },
  {
   "cell_type": "code",
   "execution_count": null,
   "metadata": {},
   "outputs": [],
   "source": [
    "import re"
   ]
  },
  {
   "cell_type": "code",
   "execution_count": null,
   "metadata": {},
   "outputs": [],
   "source": [
    "test1 = '$45.22 (1.19)'\n",
    "test2 = '50.92(1.34)'"
   ]
  },
  {
   "cell_type": "code",
   "execution_count": null,
   "metadata": {},
   "outputs": [],
   "source": [
    "# code skeleton\n",
    "def clean_price_value(messy_price):\n",
    "    \n",
    "    # check if messy_price is null. If it is just return None.\n",
    "    if pd.isnull(messy_price):\n",
    "        return None\n",
    "    else:\n",
    "        # Create a compiled regex pattern to capture the total price \n",
    "        rgx = re.compile('???')\n",
    "\n",
    "        # Attempt to match the price in messy_price\n",
    "        match_price = re.???(???, ???) \n",
    "\n",
    "        if ???:\n",
    "            # we found the price, return the price from the appropriate capture group as a float number\n",
    "            return ???(???)\n",
    "        else:\n",
    "            # No price matched\n",
    "            return None"
   ]
  },
  {
   "cell_type": "code",
   "execution_count": null,
   "metadata": {},
   "outputs": [],
   "source": [
    "# Should return 45.22\n",
    "clean_price_value(test1)"
   ]
  },
  {
   "cell_type": "code",
   "execution_count": null,
   "metadata": {},
   "outputs": [],
   "source": [
    "# Should return 50.92\n",
    "clean_price_value(test2)"
   ]
  },
  {
   "cell_type": "markdown",
   "metadata": {},
   "source": [
    "Once you've got your `clean_price_value` function working, now you need to figure out how to use it to create new price columns. After I used my function on all three of the price related columns, here's what the first 10 rows of my `wildflowers_df` DataFrame looked like:\n",
    "\n",
    "<img src=\"images/new_price_cols.PNG\"> "
   ]
  },
  {
   "cell_type": "markdown",
   "metadata": {},
   "source": [
    "Ok, I'll give you some help computing `price1` and the others are simple variants of that. The following hints are useful:\n",
    "\n",
    "* see the part in the pandas Jupyter notebook when we looked at the OR Scheduling data and specifically at the part where I created an abbreviated version of the Service name.\n",
    "* since the column names in `wildflowers_df` are a bit messy, it's easier to reference a column using the `iloc` indexer. Again, see the same notebook.\n",
    "* the `map` function and `lambda` functions are useful\n",
    "* so is the `clean_price_value()` function you wrote up above and now can use."
   ]
  },
  {
   "cell_type": "code",
   "execution_count": null,
   "metadata": {},
   "outputs": [],
   "source": [
    "wildflowers_df['price1'] = wildflowers_df.???[???, ???].???(??? x: ???(x))\n",
    "# wildflowers_df['price2'] = \n",
    "# wildflowers_df['price3'] = "
   ]
  },
  {
   "cell_type": "code",
   "execution_count": null,
   "metadata": {},
   "outputs": [],
   "source": [
    "wildflowers_df.head(10)"
   ]
  },
  {
   "cell_type": "markdown",
   "metadata": {},
   "source": [
    "Now, drop cols 2, 3  and 4 (the messy price columns). Here's my resulting wildflowers_df:\n",
    "\n",
    "```\n",
    "              Scientific Name          Common Name  price1  price2  price3\n",
    "0        Achillea millefolium               Yarrow   45.22   44.48    47.4\n",
    "1            Actaea pachypoda      White Baneberry     NaN   94.40    71.4\n",
    "2                Actaea rubra        Red Baneberry     NaN   94.40    71.4\n",
    "3        Agastache nepetoides  Yellow Giant Hyssop   50.92   44.48    47.4\n",
    "4         Ageratina altissima      White Snakeroot   50.92   44.48    47.4\n",
    "..                        ...                  ...     ...     ...     ...\n",
    "123           Verbena hastata         Blue Vervain   45.22   44.48    47.4\n",
    "124           Verbena stricta        Hoary Vervain   45.22   44.48    47.4\n",
    "125        Vernonia missurica             Ironweed   50.92   44.48    47.4\n",
    "126  Veronicastrum virginicum        Culver's-Root   50.92   44.48    47.4\n",
    "127               Zizia aurea    Golden Alexanders   50.92   44.48    47.4\n",
    "\n",
    "[128 rows x 5 columns]\n",
    "```"
   ]
  },
  {
   "cell_type": "code",
   "execution_count": null,
   "metadata": {},
   "outputs": [],
   "source": [
    "# Only keep columns 0, 1, 5, 6, 7\n",
    "wildflowers_df = wildflowers_df.iloc[???]"
   ]
  },
  {
   "cell_type": "code",
   "execution_count": null,
   "metadata": {},
   "outputs": [],
   "source": [
    "print(wildflowers_df)"
   ]
  },
  {
   "cell_type": "markdown",
   "metadata": {},
   "source": [
    "Now, let's rename the `price1`, `price2`, and `price3` columns. Here's a dicionary that maps the current column names to the new column names."
   ]
  },
  {
   "cell_type": "code",
   "execution_count": null,
   "metadata": {},
   "outputs": [],
   "source": [
    "name_changer = {'price1': '38_cell_flat',\n",
    "                'price2': '32_tray',\n",
    "                'price3': '12_ct_quart_tray'}"
   ]
  },
  {
   "cell_type": "code",
   "execution_count": null,
   "metadata": {},
   "outputs": [],
   "source": [
    "# Change the names of price1, price2 and price3 using the name_changer dictionary. Hint: Google 'pandas rename columns'\n",
    "wildflowers_df = ???"
   ]
  },
  {
   "cell_type": "markdown",
   "metadata": {},
   "source": [
    "**QUESTION 2.9** Finally, let's reshape the dataframe to get it into long format using `melt`. Run the next cell to see the help on `melt`. After successfully melting `wildflowers_df`, it will look like this (it's in \"long format\"):\n",
    "\n",
    "```\n",
    "              Scientific Name          Common Name              Size  Price\n",
    "0        Achillea millefolium               Yarrow      38_cell_flat  45.22\n",
    "1            Actaea pachypoda      White Baneberry      38_cell_flat    NaN\n",
    "2                Actaea rubra        Red Baneberry      38_cell_flat    NaN\n",
    "3        Agastache nepetoides  Yellow Giant Hyssop      38_cell_flat  50.92\n",
    "4         Ageratina altissima      White Snakeroot      38_cell_flat  50.92\n",
    "..                        ...                  ...               ...    ...\n",
    "379           Verbena hastata         Blue Vervain  12_ct_quart_tray  47.40\n",
    "380           Verbena stricta        Hoary Vervain  12_ct_quart_tray  47.40\n",
    "381        Vernonia missurica             Ironweed  12_ct_quart_tray  47.40\n",
    "382  Veronicastrum virginicum        Culver's-Root  12_ct_quart_tray  47.40\n",
    "383               Zizia aurea    Golden Alexanders  12_ct_quart_tray  47.40\n",
    "\n",
    "[384 rows x 4 columns]\n",
    "\n",
    "```"
   ]
  },
  {
   "cell_type": "code",
   "execution_count": null,
   "metadata": {},
   "outputs": [],
   "source": [
    "wildflowers_df.melt?"
   ]
  },
  {
   "cell_type": "code",
   "execution_count": null,
   "metadata": {},
   "outputs": [],
   "source": [
    "print(wildflowers_df)"
   ]
  }
 ],
 "metadata": {
  "kernelspec": {
   "display_name": "Python 3 (ipykernel)",
   "language": "python",
   "name": "python3"
  },
  "language_info": {
   "codemirror_mode": {
    "name": "ipython",
    "version": 3
   },
   "file_extension": ".py",
   "mimetype": "text/x-python",
   "name": "python",
   "nbconvert_exporter": "python",
   "pygments_lexer": "ipython3",
   "version": "3.9.13"
  }
 },
 "nbformat": 4,
 "nbformat_minor": 4
}
