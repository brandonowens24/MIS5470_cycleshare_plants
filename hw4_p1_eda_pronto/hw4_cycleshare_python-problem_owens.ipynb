{
 "cells": [
  {
   "cell_type": "markdown",
   "metadata": {},
   "source": [
    "## Problem 1 - Basic EDA with pandas and matplotlib\n",
    "\n",
    "Back in HW2, we used R's dplyr package to analyze data from Washington DC's bike share system. Now, you'll \n",
    "be able to see what doing a similar analysis using Python is like.\n",
    "For this assignment, we'll\n",
    "be using data from one of the Kaggle Datasets called the Cycle Share\n",
    "Dataset. Go to [https://www.kaggle.com/pronto/cycle-share-dataset](https://www.kaggle.com/pronto/cycle-share-dataset)\n",
    "to read about the data. We will be using the `trip.csv` and the\n",
    "`station.csv` files. I have made them available to you as part of the\n",
    "assignment. Make sure you use the versions I gave you as I've done a few modifications to make things easier.\n",
    "\n",
    "In this first problem, you are taking on the role of an analyst\n",
    "who is doing some exploration of this raw trip data.\n",
    "\n",
    "### Step 1 - get ready to analyze trip.csv file\n",
    "\n",
    "If you're reading this, you've downloaded **hw4_files_w24.zip** and extracted it.\n",
    "\n",
    "Rename this Jupyter notebook as` hw4_cycleshare_[your last name].ipynb`. Mine would be called `hw4_cycleshare_isken.ipynb`. \n",
    "\n",
    "Browse the files to get sense of structure using a text editor or the shell.\n",
    "\n",
    "Visit the Kaggle site listed above for more about the file contents. You\n",
    "will mostly be using the `trip.csv` data file but I've included the \n",
    "`station.csv` file as we'll need it too."
   ]
  },
  {
   "cell_type": "markdown",
   "metadata": {},
   "source": [
    "### Step 2 - Read data and explore rows\n",
    "\n",
    "Now you'll need to complete the following tasks in Python. Just like we did in class, you should\n",
    "use a combination of markdown text (be concise, no need to write tons of text) to explain \n",
    "what you are doing and Python code cells to actually do it.\n",
    "\n",
    "First let's load the libraries we'll need. Ignore warnings about the version of numpy."
   ]
  },
  {
   "cell_type": "code",
   "execution_count": null,
   "metadata": {},
   "outputs": [],
   "source": [
    "import pandas as pd\n",
    "import numpy as np\n",
    "import matplotlib\n",
    "import matplotlib.pyplot as plt\n",
    "import seaborn as sns"
   ]
  },
  {
   "cell_type": "code",
   "execution_count": null,
   "metadata": {},
   "outputs": [],
   "source": [
    "%matplotlib inline"
   ]
  },
  {
   "cell_type": "code",
   "execution_count": null,
   "metadata": {},
   "outputs": [],
   "source": [
    "# Create variables to store filenames to read.\n",
    "file_trip_data = './data/trip.csv'\n",
    "file_station_data = './data/station.csv'"
   ]
  },
  {
   "cell_type": "markdown",
   "metadata": {},
   "source": [
    "**QUESTION 1.1** Read in the data files and check structure. Make sure that `starttime` and `stoptime` get read in as datetimes."
   ]
  },
  {
   "cell_type": "code",
   "execution_count": null,
   "metadata": {},
   "outputs": [],
   "source": [
    "# Read the trip data\n",
    "#trip_df = pd.read_csv(???, ???=???)\n",
    "\n",
    "# Read the station data\n",
    "#station_df = pd.read_csv(???)"
   ]
  },
  {
   "cell_type": "code",
   "execution_count": null,
   "metadata": {},
   "outputs": [],
   "source": [
    "# Check out the structure of the resulting DataFrames\n"
   ]
  },
  {
   "cell_type": "markdown",
   "metadata": {},
   "source": [
    "**QUESTION 1.2** In two separate code cells, do the following:\n",
    "\n",
    "- List the first fifteen rows (all the columns), \n",
    "- list rows with **index values** 500 through 510 (inclusive) but only the `starttime`, `stoptime`, `from_station_id`, and `to_station_id` columns."
   ]
  },
  {
   "cell_type": "code",
   "execution_count": null,
   "metadata": {},
   "outputs": [],
   "source": [
    "# First 15 rows\n"
   ]
  },
  {
   "cell_type": "code",
   "execution_count": null,
   "metadata": {},
   "outputs": [],
   "source": [
    "# Rows 500-510 with select columns\n"
   ]
  },
  {
   "cell_type": "markdown",
   "metadata": {},
   "source": [
    "**QUESTION 1.3** List all trips in which the `from_station_id` is 'WF-03'."
   ]
  },
  {
   "cell_type": "code",
   "execution_count": null,
   "metadata": {},
   "outputs": [],
   "source": []
  },
  {
   "cell_type": "markdown",
   "metadata": {},
   "source": [
    "**QUESTION 1.4** This question builds on several ideas from above and then extends things. So, we want to find all the trips\n",
    "in which:\n",
    "\n",
    "- the `from_station_id` is 'WF-03' and the `bikeid` is 'SEA00082'. Use boolean indexing like we did in the ORSchedLeadTime notebook when we were selecting records from certain surgical services.\n",
    "- and only return columns `bikeid`, `tripduration`, `starttime`, `stoptime`, `from_station_id`,  and `to_station_id`.\n",
    "\n",
    "Capture the result in a new variable named `WF03_df`. Then print out the value of `WF03_df`. "
   ]
  },
  {
   "cell_type": "code",
   "execution_count": null,
   "metadata": {},
   "outputs": [],
   "source": []
  },
  {
   "cell_type": "markdown",
   "metadata": {},
   "source": [
    "**HACKER EXTRA** \n",
    "\n",
    "The use of boolean indexing like you just did can get tedious, ugly and hard to read. Fans of the R package, dplyr, point out that you can use the pipe to write more readable code. To be fair, you can actually do something similar in pandas using \"method chaining\". On the course web page for pandas, down in the [Explore section](http://www.sba.oakland.edu/faculty/isken/courses/mis5470_f23/eda_python.html#explore-optional), you can find this [link to a blog post showing how you can do dplyr-like coding in pandas](https://stmorse.github.io/journal/tidyverse-style-pandas.html). So, now try to answer Question 1.4 by using pandas method chaining as shown in that blog post. HINT: The `query` and `filter` methods will be useful."
   ]
  },
  {
   "cell_type": "code",
   "execution_count": null,
   "metadata": {},
   "outputs": [],
   "source": []
  },
  {
   "cell_type": "markdown",
   "metadata": {},
   "source": [
    "### Step 3 - trip counts\n",
    "\n",
    "**QUESTION 1.5** We are interested in the number of trips into and out of each station. In fact, the difference between trips out and trips in for a given station gives a sense of the station *balance*. Start by counting the number of trips out of each station. Store the result in a variable called station_trips_out."
   ]
  },
  {
   "cell_type": "code",
   "execution_count": null,
   "metadata": {},
   "outputs": [],
   "source": [
    "#station_trips_out = ???"
   ]
  },
  {
   "cell_type": "code",
   "execution_count": null,
   "metadata": {},
   "outputs": [],
   "source": [
    "# Use the type function to see what station_trips_out is.\n"
   ]
  },
  {
   "cell_type": "markdown",
   "metadata": {},
   "source": [
    "Now do a similar thing for trips in by station."
   ]
  },
  {
   "cell_type": "code",
   "execution_count": null,
   "metadata": {},
   "outputs": [],
   "source": [
    "#station_trips_in = ???"
   ]
  },
  {
   "cell_type": "markdown",
   "metadata": {},
   "source": [
    "Now, create a new Series called `station_balance` that is the difference between the number of trips in and the number trips out. A negative value should correspond to more trips out than in. Then display the station_balance series sorted in ascending order. Write a few sentences discussing the implications of these results from the perspective of managing bike share systems. What are the implications of having large station inbalance levels?"
   ]
  },
  {
   "cell_type": "code",
   "execution_count": null,
   "metadata": {},
   "outputs": [],
   "source": [
    "#station_balance = ???\n",
    "#station_balance.???"
   ]
  },
  {
   "cell_type": "markdown",
   "metadata": {},
   "source": [
    "***Write your discussion paragraph on station balance here*** Just double click me and edit the markdown cell.\n",
    "\n",
    "\n"
   ]
  },
  {
   "cell_type": "markdown",
   "metadata": {},
   "source": [
    "### Hacker extra - merge with station data\n",
    "Combine the `station_trips_in`, `station_trips_out`, and `station_balance` series into a DataFrame called `station_trips` (use appropriate column names). Then figure out how to use merge to add the `current_dock_count` field into your `station_trips DataFrame`."
   ]
  },
  {
   "cell_type": "markdown",
   "metadata": {},
   "source": [
    "### Step 4 - Aggregate analysis\n",
    "\n",
    "**QUESTION 1.6** Let's do some simple group by analysis to get a sense of the trip duration statistics by `to_station_id`. Compute the mean trip duration grouped by `to_station_id` and sort the results in descending order by mean trip duration."
   ]
  },
  {
   "cell_type": "code",
   "execution_count": null,
   "metadata": {},
   "outputs": [],
   "source": [
    "# Compute the mean trip duration\n"
   ]
  },
  {
   "cell_type": "markdown",
   "metadata": {},
   "source": [
    "Now compute summary statistics using the pandas `describe` for `trip_duration` by `to_station_id`."
   ]
  },
  {
   "cell_type": "code",
   "execution_count": null,
   "metadata": {},
   "outputs": [],
   "source": [
    "# Compute summary statistics for trip duration\n",
    "\n"
   ]
  },
  {
   "cell_type": "markdown",
   "metadata": {},
   "source": [
    "Repeat the above query but sort the results in descending order by the **median** trip duration."
   ]
  },
  {
   "cell_type": "code",
   "execution_count": null,
   "metadata": {},
   "outputs": [],
   "source": [
    "# Sorted version\n",
    "\n"
   ]
  },
  {
   "cell_type": "markdown",
   "metadata": {},
   "source": [
    "**QUESTION 1.7** Now, find the 10 most popular trips (i.e. the `from_station_id` and `to_station_id` with the \n",
    "largest number of trips from one to the other). "
   ]
  },
  {
   "cell_type": "code",
   "execution_count": null,
   "metadata": {},
   "outputs": [],
   "source": [
    "# Your code for finding the most popular trips\n",
    "\n"
   ]
  },
  {
   "cell_type": "markdown",
   "metadata": {},
   "source": [
    "### Step 5 - plots\n",
    "Now you'll create a few plots to help visualize this dataset. You can use pandas, matplotlib, or seaborn or any combination of them."
   ]
  },
  {
   "cell_type": "markdown",
   "metadata": {},
   "source": [
    "***QUESTION 1.8***\n",
    "\n",
    "Create a histogram of `trip_duration`. For this histogram, use 50 bins, change the bar color to blue and set the transparency level (alpha) to 0.80. Label the x-axis with 'Seconds' and y-axis with 'Number of rides'. Title the plot with 'Histogram of Trip Duration'."
   ]
  },
  {
   "cell_type": "code",
   "execution_count": null,
   "metadata": {},
   "outputs": [],
   "source": [
    "# Put your code here to create the plot\n",
    "\n"
   ]
  },
  {
   "cell_type": "markdown",
   "metadata": {},
   "source": [
    "***QUESTION 1.9** Now create a bar plot based on the counts of trips out of each station. Only include the 25 highest volume stations and sort the bars from highest (on the left side) to lowest. HINT: You can do this pretty easily with the built in pandas `plot` command. Of course there's a bit of work to get things sorted and only use the top 25, but pretty straightforward.\n",
    "\n",
    "Make sure both axes are properly labelled and the plot has an appropriate title."
   ]
  },
  {
   "cell_type": "code",
   "execution_count": null,
   "metadata": {},
   "outputs": [],
   "source": [
    "# Put your code here to create the plot"
   ]
  },
  {
   "cell_type": "markdown",
   "metadata": {},
   "source": [
    "**QUESTION 1.10** Now create a line plot showing the number of rides per date. A good general hint for creating plots is to first figure out what Series or DataFrame would make the plot easy. Then make that first and base the plot off of it. In this case, you first need to figure out how to create a Series with the number of rides per date. Do **NOT** use the pandas `plot` command. Instead, I've given you skeleton matplotlib code below. Notice that it uses the *object oriented* style of maplotlib usage. You must use this approach. In particular:\n",
    "\n",
    "- use things like `set_xlabel` to set the x and y axis labels. Similarly, use `set_title` to create a plot title.\n",
    "- add gridlines\n"
   ]
  },
  {
   "cell_type": "code",
   "execution_count": null,
   "metadata": {},
   "outputs": [],
   "source": [
    "# Use this matplotlib skeleton code for the plot\n",
    "fig, ax = plt.subplots()\n",
    "ax.???\n",
    "ax.???\n",
    "...???"
   ]
  },
  {
   "cell_type": "markdown",
   "metadata": {},
   "source": [
    "**ANSWER 1.9**"
   ]
  },
  {
   "cell_type": "code",
   "execution_count": null,
   "metadata": {},
   "outputs": [],
   "source": [
    "# Create trips by date dataframe\n",
    "trips_by_date = trip_df.groupby(trip_df['starttime'].map(lambda x: x.date())).size()\n",
    "trips_by_date.index = pd.to_datetime(trips_by_date.index)\n",
    "trips_by_date\n"
   ]
  },
  {
   "cell_type": "code",
   "execution_count": null,
   "metadata": {},
   "outputs": [],
   "source": [
    "# Use this matplotlib skeleton code for the plot\n",
    "fig, ax = plt.subplots()\n",
    "ax.plot(trips_by_date)\n",
    "ax.set_xlabel('Date')\n",
    "ax.set_ylabel('Num Trips')\n",
    "ax.set_title('Number of Trips by Date')\n",
    "ax.grid(True)"
   ]
  },
  {
   "cell_type": "markdown",
   "metadata": {},
   "source": [
    "**HACKER EXTRA** Create faceted plots of number of rides by month and year, faceted by `from_station_name`. Seaborn can do faceted plots.\n",
    "\n",
    "This is tricky. My general strategy is to think about what data structure might make the plot easier to create. In this case, I'd like a count of trips by station by date and then turn that into trips by station by month. What ends up being tricky is doing the resampling of the date when it's part of a `MultiIndex`. The following two resources are helpful:\n",
    "\n",
    "https://pandas.pydata.org/pandas-docs/stable/user_guide/cookbook.html#resampling\n",
    "\n",
    "https://stackoverflow.com/questions/15799162/resampling-within-a-pandas-multiindex"
   ]
  },
  {
   "cell_type": "markdown",
   "metadata": {},
   "source": [
    "**IMPORTANT NOTE ABOUT DELIVERABLES**\n",
    "Make sure you run all of your code cells and then save your notebook before submitting."
   ]
  },
  {
   "cell_type": "code",
   "execution_count": null,
   "metadata": {},
   "outputs": [],
   "source": []
  }
 ],
 "metadata": {
  "anaconda-cloud": {},
  "kernelspec": {
   "display_name": "Python 3 (ipykernel)",
   "language": "python",
   "name": "python3"
  },
  "language_info": {
   "codemirror_mode": {
    "name": "ipython",
    "version": 3
   },
   "file_extension": ".py",
   "mimetype": "text/x-python",
   "name": "python",
   "nbconvert_exporter": "python",
   "pygments_lexer": "ipython3",
   "version": "3.9.13"
  }
 },
 "nbformat": 4,
 "nbformat_minor": 4
}
